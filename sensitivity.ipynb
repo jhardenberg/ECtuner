{
 "cells": [
  {
   "cell_type": "code",
   "execution_count": 3,
   "metadata": {},
   "outputs": [],
   "source": [
    "import os\n",
    "import yaml\n",
    "\n",
    "year1 = 1990\n",
    "year2 = 1997\n",
    "\n",
    "# Directory containing the YAML files\n",
    "yaml_dir = './ecmean'\n",
    "\n",
    "# Dictionary to hold the contents of the YAML files\n",
    "stat = {}\n",
    "\n",
    "# Loop over all files in the directory\n",
    "for filename in os.listdir(yaml_dir):\n",
    "    if filename.endswith(f\"{year1}_{year2}.yml\"):\n",
    "        # Extract the varying part of the filename as the key\n",
    "        key = filename.split(\"_\")[2]  # Assuming the key is always in the same position\n",
    "        # Construct the full path to the file\n",
    "        filepath = os.path.join(yaml_dir, filename)\n",
    "        # Open and load the YAML file\n",
    "        with open(filepath, 'r') as file:\n",
    "            stat[key] = yaml.safe_load(file)\n",
    "\n"
   ]
  },
  {
   "cell_type": "code",
   "execution_count": 4,
   "metadata": {},
   "outputs": [],
   "source": [
    "targets = ['net_toa', 'rsnt', 'rlnt', 'swcf', 'lwcf', 'rsns', 'rlns', 'hfss', 'hfls', 'net_sfc', 'toamsfc']"
   ]
  },
  {
   "cell_type": "code",
   "execution_count": 5,
   "metadata": {},
   "outputs": [],
   "source": [
    "#               RPRCON: 0.14E-02    # coefficients for determining conversion from cloud water to rain\n",
    "#               ENTRORG: 0.175E-02  # entrainment rate (positive buoyant convection)\n",
    "#               DETRPEN: 0.75E-04   # detrainment rate for penetrative convection\n",
    "#               ENTRDD: 0.3E-03     # entrainment rate for cumulus downdrafts\n",
    "#               RMFDEPS: 0.3        # fractional massflux for downdrafts at lfs\n",
    "#           namcldp:\n",
    "#               RVICE: 0.13         # fixed ice fallspeed\n",
    "#               RLCRITSNOW: 0.3E-04 # critical autoconversion threshold\n",
    "#               RSNOWLIN2: 0.3E-01  # Constant governing of the temperature dependence of the autoconversion\n",
    "#                                   # of ice crystals to snow in large-scale precipitation\n",
    "#               RCLDIFF: 0.3E-05    # diffusion-coefficient for evaporation by turbulent mixing\n",
    "#               RCLDIFF_CONVI: 7.0  # enhancement factor of rcldiff for convection\n",
    "\n",
    "pars = ['RPRCON', 'ENTRORG', 'DETRPEN', 'ENTRDD', 'RMFDEPS', 'RVICE', 'RLCRITSNOW', 'RSNOWLIN2', 'RCLDIFF', 'RCLDIFF_CONVI']\n",
    "vals = [0.14E-02, 0.175E-02, 0.75E-04, 0.3E-03, 0.3, 0.13, 0.3E-04, 0.3E-01, 0.3E-05, 7.0]\n",
    "inc=0.2"
   ]
  },
  {
   "cell_type": "code",
   "execution_count": 9,
   "metadata": {},
   "outputs": [],
   "source": [
    "import numpy as np\n",
    "\n",
    "sensitivity = {}\n",
    "\n",
    "for p in range(len(pars)):\n",
    "    sensitivity[pars[p]] = {}\n",
    "    st0 = stat['s000']\n",
    "    st1 = stat[f's0{p}1']\n",
    "    st2 = stat[f's0{p}2']\n",
    "\n",
    "    for key1 in targets:\n",
    "        sensitivity[pars[p]][key1] = {}\n",
    "\n",
    "        for key2 in st0[key1]:\n",
    "            sensitivity[pars[p]][key1][key2] = {}\n",
    "\n",
    "            for key3 in st0[key1][key2]:\n",
    "                am = st1[key1][key2][key3]\n",
    "                a0 = st0[key1][key2][key3]\n",
    "                ap = st2[key1][key2][key3]\n",
    "                vm = vals[p] * (1 - inc)\n",
    "                v0 = vals[p]\n",
    "                vp = vals[p] * (1 + inc)\n",
    "                x = np.array([vm, v0, vp])\n",
    "                y = np.array([am, a0, ap])\n",
    "                coefficients = np.polyfit(x, y, 1)\n",
    "                sensitivity[pars[p]][key1][key2][key3] = [float(coefficients[0]),\n",
    "                                                          float(coefficients[0])*v0]\n",
    "            \n"
   ]
  },
  {
   "cell_type": "code",
   "execution_count": 10,
   "metadata": {},
   "outputs": [],
   "source": [
    "import yaml\n",
    "\n",
    "output_file = f'sensitivity_{year1}-{year2}.yaml'\n",
    "\n",
    "# Save the sensitivity dictionary into the YAML file\n",
    "with open(output_file, 'w') as file:\n",
    "    yaml.dump(sensitivity, file)"
   ]
  },
  {
   "cell_type": "code",
   "execution_count": 10,
   "metadata": {},
   "outputs": [],
   "source": [
    "import numpy as np\n",
    "\n",
    "paramdic = {}\n",
    "outdir = './exps'\n",
    "prefix = 's0'\n",
    "\n",
    "for p in range(len(pars)):\n",
    "    paramdic[pars[p]] = vals[p]\n",
    "\n",
    "fn = f'params_{prefix}00.yaml'\n",
    "filepath = os.path.join(outdir, fn)\n",
    "with open(filepath, 'w') as file:\n",
    "    yaml.dump(paramdic, file)\n",
    "\n",
    "for p in range(len(pars)):\n",
    "\n",
    "    paramdic2 = paramdic.copy()\n",
    "    \n",
    "    fn = f'params_{prefix}{p}1.yaml'\n",
    "    v = vals[p] * (1 - inc)\n",
    "    paramdic2[pars[p]] = v\n",
    "\n",
    "    filepath = os.path.join(outdir, fn)\n",
    "    with open(filepath, 'w') as file:\n",
    "        yaml.dump(paramdic2, file)\n",
    "    \n",
    "    paramdic2 = paramdic.copy()\n",
    "    \n",
    "    fn = f'params_{prefix}{p}2.yaml'\n",
    "    v = vals[p] * (1 + inc)\n",
    "    paramdic2[pars[p]] = v\n",
    "\n",
    "    filepath = os.path.join(outdir, fn)\n",
    "    with open(filepath, 'w') as file:\n",
    "        yaml.dump(paramdic2, file)\n",
    "\n",
    "\n",
    "     \n",
    "\n",
    "            \n"
   ]
  },
  {
   "cell_type": "code",
   "execution_count": 11,
   "metadata": {},
   "outputs": [
    {
     "data": {
      "text/plain": [
       "['RPRCON',\n",
       " 'ENTRORG',\n",
       " 'DETRPEN',\n",
       " 'ENTRDD',\n",
       " 'RMFDEPS',\n",
       " 'RVICE',\n",
       " 'RLCRITSNOW',\n",
       " 'RSNOWLIN2',\n",
       " 'RCLDIFF',\n",
       " 'RCLDIFF_CONVI']"
      ]
     },
     "execution_count": 11,
     "metadata": {},
     "output_type": "execute_result"
    }
   ],
   "source": [
    "['RPRCON', 'ENTRORG', 'DETRPEN', 'ENTRDD', 'RMFDEPS', 'RVICE', 'RLCRITSNOW', 'RSNOWLIN2', 'RCLDIFF', 'RCLDIFF_CONVI']"
   ]
  },
  {
   "cell_type": "code",
   "execution_count": null,
   "metadata": {},
   "outputs": [],
   "source": []
  }
 ],
 "metadata": {
  "kernelspec": {
   "display_name": "tuning",
   "language": "python",
   "name": "python3"
  },
  "language_info": {
   "codemirror_mode": {
    "name": "ipython",
    "version": 3
   },
   "file_extension": ".py",
   "mimetype": "text/x-python",
   "name": "python",
   "nbconvert_exporter": "python",
   "pygments_lexer": "ipython3",
   "version": "3.12.4"
  }
 },
 "nbformat": 4,
 "nbformat_minor": 2
}
